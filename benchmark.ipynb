{
 "cells": [
  {
   "cell_type": "markdown",
   "metadata": {},
   "source": [
    ">In this part, we propose to verify the claim made in the paper: \"In virtually all domains, the most accurate classifier is the Nearest Neighbor algorithm with Dynamic Time Warping as the distance measure.\"\n",
    ">To do so, we will test 7 different types of classifiers on 10 different datasets: 1NN with DTW, 1NN with Euclidian distance, 1NN with LCSS, Random Forest Classifier, SML with linear and quadratic kernels, Naives Bayes classifier."
   ]
  },
  {
   "cell_type": "code",
   "execution_count": 1,
   "metadata": {},
   "outputs": [],
   "source": [
    "import src.utils as utils"
   ]
  },
  {
   "cell_type": "code",
   "execution_count": 22,
   "metadata": {},
   "outputs": [],
   "source": [
    "from tslearn.svm import TimeSeriesSVC\n",
    "from tslearn.neural_network import TimeSeriesMLPClassifier\n",
    "from tslearn.neighbors import KNeighborsTimeSeriesClassifier\n",
    "from sklearn.ensemble import RandomForestClassifier\n",
    "from sklearn.naive_bayes import GaussianNB\n",
    "from sklearn.neighbors import KNeighborsClassifier"
   ]
  },
  {
   "cell_type": "code",
   "execution_count": 37,
   "metadata": {},
   "outputs": [],
   "source": [
    "svm_lin = TimeSeriesSVC(kernel= \"poly\", degree=1)\n",
    "svm_poly = TimeSeriesSVC(kernel= \"poly\", degree=2)\n",
    "mlp = TimeSeriesMLPClassifier(hidden_layer_sizes=(64, 64))\n",
    "nn_dtw = KNeighborsTimeSeriesClassifier(n_neighbors=5, metric=\"dtw\")\n",
    "nn_euclidean = KNeighborsTimeSeriesClassifier(n_neighbors=5, metric=\"euclidean\")\n",
    "rf = RandomForestClassifier(n_estimators=50)\n",
    "naive_baiye = GaussianNB()\n",
    "svm_gak = TimeSeriesSVC(kernel= \"gak\")"
   ]
  },
  {
   "cell_type": "code",
   "execution_count": 40,
   "metadata": {},
   "outputs": [],
   "source": [
    "models = {\n",
    "    \"SVM with linear kernel\": svm_lin,\n",
    "    \"SVM with polynomial kernel\": svm_poly,\n",
    "    \"Neural Network\": mlp,\n",
    "    \"5NN with DTW\": nn_dtw,\n",
    "    \"5NN with Euclidean distance\": nn_euclidean,\n",
    "    \"Random Forest\": rf,\n",
    "    \"Naive Bayes\": naive_baiye,\n",
    "    \"SVM with GAK\": svm_gak\n",
    "}"
   ]
  },
  {
   "cell_type": "markdown",
   "metadata": {},
   "source": [
    "**GunPoint**"
   ]
  },
  {
   "cell_type": "code",
   "execution_count": 41,
   "metadata": {},
   "outputs": [],
   "source": [
    "train_path = 'UCRArchive_2018/GunPoint/GunPoint_TRAIN.tsv'\n",
    "test_path = 'UCRArchive_2018/GunPoint/GunPoint_TEST.tsv'"
   ]
  },
  {
   "cell_type": "code",
   "execution_count": 42,
   "metadata": {},
   "outputs": [
    {
     "name": "stdout",
     "output_type": "stream",
     "text": [
      "SVM with linear kernel accuracy: 0.9066666666666666, time complexity: 0.04961562156677246 seconds\n",
      "SVM with polynomial kernel accuracy: 0.94, time complexity: 0.047734975814819336 seconds\n",
      "Neural Network accuracy: 0.96, time complexity: 0.14013123512268066 seconds\n"
     ]
    },
    {
     "name": "stderr",
     "output_type": "stream",
     "text": [
      "c:\\miniconda\\Lib\\site-packages\\sklearn\\neural_network\\_multilayer_perceptron.py:690: ConvergenceWarning: Stochastic Optimizer: Maximum iterations (200) reached and the optimization hasn't converged yet.\n",
      "  warnings.warn(\n"
     ]
    },
    {
     "name": "stdout",
     "output_type": "stream",
     "text": [
      "5NN with DTW accuracy: 0.8266666666666667, time complexity: 1.6948237419128418 seconds\n",
      "5NN with Euclidean distance accuracy: 0.8, time complexity: 0.04791903495788574 seconds\n",
      "Random Forest accuracy: 0.94, time complexity: 0.07655882835388184 seconds\n",
      "Naive Bayes accuracy: 0.7866666666666666, time complexity: 0.0010819435119628906 seconds\n",
      "SVM with GAK accuracy: 0.7333333333333333, time complexity: 6.1404125690460205 seconds\n"
     ]
    }
   ],
   "source": [
    "accuracy_gunpoint, time_compexity_gunpoint = utils.get_statistics_models(models, train_path, test_path)"
   ]
  },
  {
   "cell_type": "markdown",
   "metadata": {},
   "source": [
    "**InsectWingbeatSound**"
   ]
  },
  {
   "cell_type": "code",
   "execution_count": 43,
   "metadata": {},
   "outputs": [],
   "source": [
    "train_path = 'UCRArchive_2018/InsectWingbeatSound/InsectWingbeatSound_TRAIN.tsv'\n",
    "test_path = 'UCRArchive_2018/InsectWingbeatSound/InsectWingbeatSound_TEST.tsv'"
   ]
  },
  {
   "cell_type": "code",
   "execution_count": 44,
   "metadata": {},
   "outputs": [
    {
     "name": "stdout",
     "output_type": "stream",
     "text": [
      "SVM with linear kernel accuracy: 0.5828282828282828, time complexity: 0.4214608669281006 seconds\n",
      "SVM with polynomial kernel accuracy: 0.5893939393939394, time complexity: 0.44715380668640137 seconds\n"
     ]
    },
    {
     "name": "stderr",
     "output_type": "stream",
     "text": [
      "c:\\miniconda\\Lib\\site-packages\\sklearn\\neural_network\\_multilayer_perceptron.py:690: ConvergenceWarning: Stochastic Optimizer: Maximum iterations (200) reached and the optimization hasn't converged yet.\n",
      "  warnings.warn(\n"
     ]
    },
    {
     "name": "stdout",
     "output_type": "stream",
     "text": [
      "Neural Network accuracy: 0.6323232323232323, time complexity: 0.3386423587799072 seconds\n",
      "5NN with DTW accuracy: 0.35454545454545455, time complexity: 209.09139275550842 seconds\n",
      "5NN with Euclidean distance accuracy: 0.598989898989899, time complexity: 0.490969181060791 seconds\n",
      "Random Forest accuracy: 0.6297979797979798, time complexity: 0.17814016342163086 seconds\n",
      "Naive Bayes accuracy: 0.6292929292929293, time complexity: 0.05612754821777344 seconds\n",
      "SVM with GAK accuracy: 0.6222222222222222, time complexity: 817.3204193115234 seconds\n"
     ]
    }
   ],
   "source": [
    "accuracy_insectwingbeat, time_compexity_insectwingbeat = utils.get_statistics_models(models, train_path, test_path)"
   ]
  },
  {
   "cell_type": "markdown",
   "metadata": {},
   "source": [
    "> SVM with GAK doesn't perform that well and is super long, so we will remove it for the next tests."
   ]
  },
  {
   "cell_type": "code",
   "execution_count": 45,
   "metadata": {},
   "outputs": [],
   "source": [
    "models = {\n",
    "    \"SVM with linear kernel\": svm_lin,\n",
    "    \"SVM with polynomial kernel\": svm_poly,\n",
    "    \"Neural Network\": mlp,\n",
    "    \"5NN with DTW\": nn_dtw,\n",
    "    \"5NN with Euclidean distance\": nn_euclidean,\n",
    "    \"Random Forest\": rf,\n",
    "    \"Naive Bayes\": naive_baiye,\n",
    "}"
   ]
  },
  {
   "cell_type": "markdown",
   "metadata": {},
   "source": [
    "**FaceUCR**"
   ]
  },
  {
   "cell_type": "code",
   "execution_count": 47,
   "metadata": {},
   "outputs": [],
   "source": [
    "train_path = 'UCRArchive_2018/FacesUCR/FacesUCR_TRAIN.tsv'\n",
    "test_path = 'UCRArchive_2018/FacesUCR/FacesUCR_TEST.tsv'"
   ]
  },
  {
   "cell_type": "code",
   "execution_count": 48,
   "metadata": {},
   "outputs": [
    {
     "name": "stdout",
     "output_type": "stream",
     "text": [
      "SVM with linear kernel accuracy: 0.7863414634146342, time complexity: 0.44185876846313477 seconds\n",
      "SVM with polynomial kernel accuracy: 0.828780487804878, time complexity: 0.4654717445373535 seconds\n"
     ]
    },
    {
     "name": "stderr",
     "output_type": "stream",
     "text": [
      "c:\\miniconda\\Lib\\site-packages\\sklearn\\neural_network\\_multilayer_perceptron.py:690: ConvergenceWarning: Stochastic Optimizer: Maximum iterations (200) reached and the optimization hasn't converged yet.\n",
      "  warnings.warn(\n"
     ]
    },
    {
     "name": "stdout",
     "output_type": "stream",
     "text": [
      "Neural Network accuracy: 0.7517073170731707, time complexity: 0.21358942985534668 seconds\n",
      "5NN with DTW accuracy: 0.8619512195121951, time complexity: 74.32603812217712 seconds\n",
      "5NN with Euclidean distance accuracy: 0.6219512195121951, time complexity: 0.4656813144683838 seconds\n",
      "Random Forest accuracy: 0.7585365853658537, time complexity: 0.12974834442138672 seconds\n",
      "Naive Bayes accuracy: 0.7263414634146341, time complexity: 0.03643655776977539 seconds\n"
     ]
    }
   ],
   "source": [
    "accuracy_faceucr, time_compexity_faceucr = utils.get_statistics_models(models, train_path, test_path)"
   ]
  },
  {
   "cell_type": "markdown",
   "metadata": {},
   "source": [
    "**Fish**"
   ]
  },
  {
   "cell_type": "code",
   "execution_count": 49,
   "metadata": {},
   "outputs": [],
   "source": [
    "train_path = 'UCRArchive_2018/Fish/Fish_TRAIN.tsv'\n",
    "test_path = 'UCRArchive_2018/Fish/Fish_TEST.tsv'"
   ]
  },
  {
   "cell_type": "code",
   "execution_count": 50,
   "metadata": {},
   "outputs": [
    {
     "name": "stdout",
     "output_type": "stream",
     "text": [
      "SVM with linear kernel accuracy: 0.8628571428571429, time complexity: 0.12016677856445312 seconds\n",
      "SVM with polynomial kernel accuracy: 0.8628571428571429, time complexity: 0.11927628517150879 seconds\n"
     ]
    },
    {
     "name": "stderr",
     "output_type": "stream",
     "text": [
      "c:\\miniconda\\Lib\\site-packages\\sklearn\\neural_network\\_multilayer_perceptron.py:690: ConvergenceWarning: Stochastic Optimizer: Maximum iterations (200) reached and the optimization hasn't converged yet.\n",
      "  warnings.warn(\n"
     ]
    },
    {
     "name": "stdout",
     "output_type": "stream",
     "text": [
      "Neural Network accuracy: 0.8628571428571429, time complexity: 0.2874259948730469 seconds\n",
      "5NN with DTW accuracy: 0.7314285714285714, time complexity: 79.19349527359009 seconds\n",
      "5NN with Euclidean distance accuracy: 0.72, time complexity: 0.08112716674804688 seconds\n",
      "Random Forest accuracy: 0.76, time complexity: 0.16534662246704102 seconds\n",
      "Naive Bayes accuracy: 0.6628571428571428, time complexity: 0.005052804946899414 seconds\n"
     ]
    }
   ],
   "source": [
    "accuracy_fish, time_compexity_fish = utils.get_statistics_models(models, train_path, test_path)"
   ]
  },
  {
   "cell_type": "markdown",
   "metadata": {},
   "source": [
    "**WordSynonyms**"
   ]
  },
  {
   "cell_type": "code",
   "execution_count": 52,
   "metadata": {},
   "outputs": [],
   "source": [
    "train_path = 'UCRArchive_2018/WordSynonyms/WordSynonyms_TRAIN.tsv'\n",
    "test_path = 'UCRArchive_2018/WordSynonyms/WordSynonyms_TEST.tsv'"
   ]
  },
  {
   "cell_type": "code",
   "execution_count": 53,
   "metadata": {},
   "outputs": [
    {
     "name": "stdout",
     "output_type": "stream",
     "text": [
      "SVM with linear kernel accuracy: 0.5188087774294671, time complexity: 0.2859647274017334 seconds\n",
      "SVM with polynomial kernel accuracy: 0.6128526645768025, time complexity: 0.29074668884277344 seconds\n"
     ]
    },
    {
     "name": "stderr",
     "output_type": "stream",
     "text": [
      "c:\\miniconda\\Lib\\site-packages\\sklearn\\neural_network\\_multilayer_perceptron.py:690: ConvergenceWarning: Stochastic Optimizer: Maximum iterations (200) reached and the optimization hasn't converged yet.\n",
      "  warnings.warn(\n"
     ]
    },
    {
     "name": "stdout",
     "output_type": "stream",
     "text": [
      "Neural Network accuracy: 0.5579937304075235, time complexity: 0.477017879486084 seconds\n",
      "5NN with DTW accuracy: 0.5532915360501567, time complexity: 84.1581711769104 seconds\n",
      "5NN with Euclidean distance accuracy: 0.5470219435736677, time complexity: 0.20004510879516602 seconds\n",
      "Random Forest accuracy: 0.5642633228840125, time complexity: 0.2513706684112549 seconds\n",
      "Naive Bayes accuracy: 0.4780564263322884, time complexity: 0.04478621482849121 seconds\n"
     ]
    }
   ],
   "source": [
    "accuracy_wordsynonyms, time_compexity_wordsynonyms = utils.get_statistics_models(models, train_path, test_path)"
   ]
  },
  {
   "cell_type": "markdown",
   "metadata": {},
   "source": [
    "**Wine**"
   ]
  },
  {
   "cell_type": "code",
   "execution_count": 54,
   "metadata": {},
   "outputs": [],
   "source": [
    "train_path = 'UCRArchive_2018/Wine/Wine_TRAIN.tsv'\n",
    "test_path = 'UCRArchive_2018/Wine/Wine_TEST.tsv'"
   ]
  },
  {
   "cell_type": "code",
   "execution_count": 55,
   "metadata": {},
   "outputs": [
    {
     "name": "stdout",
     "output_type": "stream",
     "text": [
      "SVM with linear kernel accuracy: 0.8888888888888888, time complexity: 0.036000967025756836 seconds\n",
      "SVM with polynomial kernel accuracy: 0.8703703703703703, time complexity: 0.03500080108642578 seconds\n",
      "Neural Network accuracy: 0.6111111111111112, time complexity: 0.12901973724365234 seconds\n"
     ]
    },
    {
     "name": "stderr",
     "output_type": "stream",
     "text": [
      "c:\\miniconda\\Lib\\site-packages\\sklearn\\neural_network\\_multilayer_perceptron.py:690: ConvergenceWarning: Stochastic Optimizer: Maximum iterations (200) reached and the optimization hasn't converged yet.\n",
      "  warnings.warn(\n"
     ]
    },
    {
     "name": "stdout",
     "output_type": "stream",
     "text": [
      "5NN with DTW accuracy: 0.48148148148148145, time complexity: 1.24583101272583 seconds\n",
      "5NN with Euclidean distance accuracy: 0.5370370370370371, time complexity: 0.024245500564575195 seconds\n",
      "Random Forest accuracy: 0.7592592592592593, time complexity: 0.0738074779510498 seconds\n",
      "Naive Bayes accuracy: 0.5740740740740741, time complexity: 0.0010006427764892578 seconds\n"
     ]
    }
   ],
   "source": [
    "accuracy_wine, time_compexity_wine = utils.get_statistics_models(models, train_path, test_path)"
   ]
  },
  {
   "cell_type": "markdown",
   "metadata": {},
   "source": [
    "**SmallKitchenAppliances**"
   ]
  },
  {
   "cell_type": "code",
   "execution_count": 57,
   "metadata": {},
   "outputs": [],
   "source": [
    "train_path = 'UCRArchive_2018/SmallKitchenAppliances/SmallKitchenAppliances_TRAIN.tsv'\n",
    "test_path = 'UCRArchive_2018/SmallKitchenAppliances/SmallKitchenAppliances_TRAIN.tsv'"
   ]
  },
  {
   "cell_type": "code",
   "execution_count": 58,
   "metadata": {},
   "outputs": [
    {
     "name": "stdout",
     "output_type": "stream",
     "text": [
      "SVM with linear kernel accuracy: 1.0, time complexity: 0.2988438606262207 seconds\n",
      "SVM with polynomial kernel accuracy: 1.0, time complexity: 0.3285090923309326 seconds\n",
      "Neural Network accuracy: 1.0, time complexity: 0.31024813652038574 seconds\n",
      "5NN with DTW accuracy: 0.7466666666666667, time complexity: 688.5473294258118 seconds\n",
      "5NN with Euclidean distance accuracy: 0.5626666666666666, time complexity: 0.21687722206115723 seconds\n",
      "Random Forest accuracy: 1.0, time complexity: 0.4094562530517578 seconds\n",
      "Naive Bayes accuracy: 0.92, time complexity: 0.014548301696777344 seconds\n"
     ]
    }
   ],
   "source": [
    "accuracy_ska, time_compexity_ska = utils.get_statistics_models(models, train_path, test_path)"
   ]
  },
  {
   "cell_type": "markdown",
   "metadata": {},
   "source": [
    "**Yoga**"
   ]
  },
  {
   "cell_type": "code",
   "execution_count": 59,
   "metadata": {},
   "outputs": [],
   "source": [
    "train_path = 'UCRArchive_2018/Yoga/Yoga_TRAIN.tsv'\n",
    "test_path = 'UCRArchive_2018/Yoga/Yoga_TRAIN.tsv'"
   ]
  },
  {
   "cell_type": "code",
   "execution_count": 60,
   "metadata": {},
   "outputs": [
    {
     "name": "stdout",
     "output_type": "stream",
     "text": [
      "SVM with linear kernel accuracy: 1.0, time complexity: 1.9977312088012695 seconds\n",
      "SVM with polynomial kernel accuracy: 1.0, time complexity: 0.19860291481018066 seconds\n"
     ]
    },
    {
     "name": "stderr",
     "output_type": "stream",
     "text": [
      "c:\\miniconda\\Lib\\site-packages\\sklearn\\neural_network\\_multilayer_perceptron.py:690: ConvergenceWarning: Stochastic Optimizer: Maximum iterations (200) reached and the optimization hasn't converged yet.\n",
      "  warnings.warn(\n"
     ]
    },
    {
     "name": "stdout",
     "output_type": "stream",
     "text": [
      "Neural Network accuracy: 1.0, time complexity: 0.4767289161682129 seconds\n",
      "5NN with DTW accuracy: 0.86, time complexity: 169.4375660419464 seconds\n",
      "5NN with Euclidean distance accuracy: 0.83, time complexity: 0.12871599197387695 seconds\n",
      "Random Forest accuracy: 1.0, time complexity: 0.23135042190551758 seconds\n",
      "Naive Bayes accuracy: 0.6133333333333333, time complexity: 0.004029750823974609 seconds\n"
     ]
    }
   ],
   "source": [
    "accuracy_yoga, time_compexity_yoga = utils.get_statistics_models(models, train_path, test_path)\n"
   ]
  },
  {
   "cell_type": "markdown",
   "metadata": {},
   "source": [
    "**OliveOil**"
   ]
  },
  {
   "cell_type": "code",
   "execution_count": 61,
   "metadata": {},
   "outputs": [],
   "source": [
    "train_path = 'UCRArchive_2018/OliveOil/OliveOil_TRAIN.tsv'\n",
    "test_path = 'UCRArchive_2018/OliveOil/OliveOil_TRAIN.tsv'"
   ]
  },
  {
   "cell_type": "code",
   "execution_count": 62,
   "metadata": {},
   "outputs": [
    {
     "name": "stdout",
     "output_type": "stream",
     "text": [
      "SVM with linear kernel accuracy: 1.0, time complexity: 0.02465987205505371 seconds\n",
      "SVM with polynomial kernel accuracy: 1.0, time complexity: 0.021627426147460938 seconds\n",
      "Neural Network accuracy: 0.7666666666666667, time complexity: 0.16178607940673828 seconds\n"
     ]
    },
    {
     "name": "stderr",
     "output_type": "stream",
     "text": [
      "c:\\miniconda\\Lib\\site-packages\\sklearn\\neural_network\\_multilayer_perceptron.py:690: ConvergenceWarning: Stochastic Optimizer: Maximum iterations (200) reached and the optimization hasn't converged yet.\n",
      "  warnings.warn(\n"
     ]
    },
    {
     "name": "stdout",
     "output_type": "stream",
     "text": [
      "5NN with DTW accuracy: 0.8333333333333334, time complexity: 2.9264307022094727 seconds\n",
      "5NN with Euclidean distance accuracy: 0.8333333333333334, time complexity: 0.018271684646606445 seconds\n",
      "Random Forest accuracy: 1.0, time complexity: 0.08716106414794922 seconds\n",
      "Naive Bayes accuracy: 0.9666666666666667, time complexity: 0.001798391342163086 seconds\n"
     ]
    }
   ],
   "source": [
    "accuracy_oliveoil, time_compexity_oliveoil = utils.get_statistics_models(models, train_path, test_path)"
   ]
  },
  {
   "cell_type": "markdown",
   "metadata": {},
   "source": [
    "**BirdChicken**"
   ]
  },
  {
   "cell_type": "code",
   "execution_count": 63,
   "metadata": {},
   "outputs": [],
   "source": [
    "train_path = 'UCRArchive_2018/BirdChicken/BirdChicken_TRAIN.tsv'\n",
    "test_path = 'UCRArchive_2018/BirdChicken/BirdChicken_TRAIN.tsv'"
   ]
  },
  {
   "cell_type": "code",
   "execution_count": 64,
   "metadata": {},
   "outputs": [
    {
     "name": "stdout",
     "output_type": "stream",
     "text": [
      "SVM with linear kernel accuracy: 1.0, time complexity: 0.02006077766418457 seconds\n",
      "SVM with polynomial kernel accuracy: 1.0, time complexity: 0.015996932983398438 seconds\n",
      "Neural Network accuracy: 1.0, time complexity: 0.05873250961303711 seconds\n",
      "5NN with DTW accuracy: 0.7, time complexity: 1.222801685333252 seconds\n",
      "5NN with Euclidean distance accuracy: 0.8, time complexity: 0.011046648025512695 seconds\n",
      "Random Forest accuracy: 1.0, time complexity: 0.06678390502929688 seconds\n",
      "Naive Bayes accuracy: 0.85, time complexity: 0.0010008811950683594 seconds\n"
     ]
    }
   ],
   "source": [
    "accuracy_birdchicken, time_compexity_birdchicken = utils.get_statistics_models(models, train_path, test_path)"
   ]
  },
  {
   "cell_type": "markdown",
   "metadata": {},
   "source": [
    "**ACSF1**"
   ]
  },
  {
   "cell_type": "code",
   "execution_count": 65,
   "metadata": {},
   "outputs": [],
   "source": [
    "train_path = 'UCRArchive_2018/ACSF1/ACSF1_TRAIN.tsv'\n",
    "test_path = 'UCRArchive_2018/ACSF1/ACSF1_TRAIN.tsv'"
   ]
  },
  {
   "cell_type": "code",
   "execution_count": 66,
   "metadata": {},
   "outputs": [
    {
     "name": "stdout",
     "output_type": "stream",
     "text": [
      "SVM with linear kernel accuracy: 1.0, time complexity: 0.09324026107788086 seconds\n",
      "SVM with polynomial kernel accuracy: 1.0, time complexity: 0.0889139175415039 seconds\n"
     ]
    },
    {
     "name": "stderr",
     "output_type": "stream",
     "text": [
      "c:\\miniconda\\Lib\\site-packages\\sklearn\\neural_network\\_multilayer_perceptron.py:690: ConvergenceWarning: Stochastic Optimizer: Maximum iterations (200) reached and the optimization hasn't converged yet.\n",
      "  warnings.warn(\n"
     ]
    },
    {
     "name": "stdout",
     "output_type": "stream",
     "text": [
      "Neural Network accuracy: 0.93, time complexity: 0.5007293224334717 seconds\n",
      "5NN with DTW accuracy: 0.61, time complexity: 190.0928258895874 seconds\n",
      "5NN with Euclidean distance accuracy: 0.49, time complexity: 0.05583477020263672 seconds\n",
      "Random Forest accuracy: 1.0, time complexity: 0.18477129936218262 seconds\n",
      "Naive Bayes accuracy: 0.78, time complexity: 0.021446704864501953 seconds\n"
     ]
    }
   ],
   "source": [
    "accuracy_acsf1, time_compexity_acsf1 = utils.get_statistics_models(models, train_path, test_path)"
   ]
  },
  {
   "cell_type": "markdown",
   "metadata": {},
   "source": [
    "**CBF**"
   ]
  },
  {
   "cell_type": "code",
   "execution_count": 80,
   "metadata": {},
   "outputs": [],
   "source": [
    "train_set, train_label =  utils.read_ts('CBF/CBF_TRAIN.ts')\n",
    "test_set, test_label = utils.read_ts('CBF/CBF_TEST.ts')"
   ]
  },
  {
   "cell_type": "code",
   "execution_count": 77,
   "metadata": {},
   "outputs": [
    {
     "name": "stdout",
     "output_type": "stream",
     "text": [
      "SVM with linear kernel accuracy: 0.88, time complexity: 0.22316908836364746 seconds\n",
      "SVM with polynomial kernel accuracy: 0.9011111111111111, time complexity: 0.2609097957611084 seconds\n",
      "Neural Network accuracy: 0.8566666666666667, time complexity: 0.10628747940063477 seconds\n",
      "5NN with DTW accuracy: 0.9822222222222222, time complexity: 5.383826494216919 seconds\n",
      "5NN with Euclidean distance accuracy: 0.7666666666666667, time complexity: 0.1940450668334961 seconds\n",
      "Random Forest accuracy: 0.8422222222222222, time complexity: 0.08472466468811035 seconds\n",
      "Naive Bayes accuracy: 0.8944444444444445, time complexity: 0.003478527069091797 seconds\n"
     ]
    }
   ],
   "source": [
    "accuracy_cbf, time_compexity_cbf = utils.get_statistics_models_from_data(models, train_set, train_label, test_set, test_label)"
   ]
  },
  {
   "cell_type": "markdown",
   "metadata": {},
   "source": [
    "**Summary**"
   ]
  },
  {
   "cell_type": "code",
   "execution_count": 78,
   "metadata": {},
   "outputs": [],
   "source": [
    "accuracy = [accuracy_gunpoint,accuracy_insectwingbeat, accuracy_faceucr, accuracy_fish, accuracy_wordsynonyms, accuracy_wordsynonyms, accuracy_wine, accuracy_ska,accuracy_yoga, accuracy_oliveoil, accuracy_birdchicken, accuracy_acsf1]\n",
    "\n",
    "tc = [time_compexity_gunpoint, time_compexity_insectwingbeat, time_compexity_faceucr, time_compexity_fish, time_compexity_wordsynonyms, time_compexity_wordsynonyms, time_compexity_wine, time_compexity_ska, time_compexity_yoga, time_compexity_oliveoil, time_compexity_birdchicken, time_compexity_acsf1]\n"
   ]
  },
  {
   "cell_type": "code",
   "execution_count": null,
   "metadata": {},
   "outputs": [],
   "source": [
    "dic_accuracy = dict()\n",
    "dic_tc = dict()"
   ]
  },
  {
   "cell_type": "code",
   "execution_count": 83,
   "metadata": {},
   "outputs": [],
   "source": [
    "model = {\"1nn\":KNeighborsClassifier(n_neighbors=1)}"
   ]
  },
  {
   "cell_type": "code",
   "execution_count": 85,
   "metadata": {},
   "outputs": [
    {
     "name": "stdout",
     "output_type": "stream",
     "text": [
      "1nn accuracy: 0.8522222222222222, time complexity: 0.2631716728210449 seconds\n"
     ]
    }
   ],
   "source": [
    "accuracy_test, time_compexity_test = utils.get_statistics_models_from_data(model, train_set, train_label, test_set, test_label)"
   ]
  }
 ],
 "metadata": {
  "kernelspec": {
   "display_name": "base",
   "language": "python",
   "name": "python3"
  },
  "language_info": {
   "codemirror_mode": {
    "name": "ipython",
    "version": 3
   },
   "file_extension": ".py",
   "mimetype": "text/x-python",
   "name": "python",
   "nbconvert_exporter": "python",
   "pygments_lexer": "ipython3",
   "version": "3.12.7"
  }
 },
 "nbformat": 4,
 "nbformat_minor": 2
}
