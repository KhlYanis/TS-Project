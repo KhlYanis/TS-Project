{
 "cells": [
  {
   "cell_type": "code",
   "execution_count": 35,
   "metadata": {},
   "outputs": [],
   "source": [
    "from src.kmean import kmeans\n",
    "from src.kmedoid import kmedoid\n",
    "from src.dtw import get_dtw_distance"
   ]
  },
  {
   "cell_type": "code",
   "execution_count": 27,
   "metadata": {},
   "outputs": [],
   "source": [
    "import numpy as np"
   ]
  },
  {
   "cell_type": "code",
   "execution_count": 36,
   "metadata": {},
   "outputs": [],
   "source": [
    "model_mean = kmeans(2,10,0.1)\n",
    "model_medoid = kmedoid(2,10,0.1)"
   ]
  },
  {
   "cell_type": "code",
   "execution_count": 29,
   "metadata": {},
   "outputs": [],
   "source": [
    "X = np.array([[100,100,100], [0.2,0.3,0.4], [0.2,0.4,0.4], [0.3,1.3,0.4]])\n",
    "dtw_mat = np.zeros((4,4))\n",
    "for i in range(4):\n",
    "    for j in range(4):\n",
    "        dtw_mat[i,j] = get_dtw_distance(X[i,:], X[j,:])"
   ]
  },
  {
   "cell_type": "code",
   "execution_count": 30,
   "metadata": {},
   "outputs": [
    {
     "name": "stdout",
     "output_type": "stream",
     "text": [
      "{0: [0], 1: [1, 2, 3]}\n",
      "{0: [0], 1: [1, 2, 3]}\n"
     ]
    },
    {
     "data": {
      "text/plain": [
       "array([[100.  , 100.  , 100.  ],\n",
       "       [  0.25,   0.35,   0.85]])"
      ]
     },
     "execution_count": 30,
     "metadata": {},
     "output_type": "execute_result"
    }
   ],
   "source": [
    "model_mean.fit(X, dtw_mat)"
   ]
  },
  {
   "cell_type": "code",
   "execution_count": 37,
   "metadata": {},
   "outputs": [
    {
     "name": "stdout",
     "output_type": "stream",
     "text": [
      "[0 1 1 1]\n",
      "{0: [0], 1: [1, 2, 3]}\n",
      "ok\n",
      "[0 0 0 0]\n",
      "{0: [0, 1, 2, 3], 1: []}\n"
     ]
    },
    {
     "ename": "IndexError",
     "evalue": "arrays used as indices must be of integer (or boolean) type",
     "output_type": "error",
     "traceback": [
      "\u001b[1;31m---------------------------------------------------------------------------\u001b[0m",
      "\u001b[1;31mIndexError\u001b[0m                                Traceback (most recent call last)",
      "Cell \u001b[1;32mIn[37], line 1\u001b[0m\n\u001b[1;32m----> 1\u001b[0m model_medoid\u001b[38;5;241m.\u001b[39mfit(X, dtw_mat)\n",
      "File \u001b[1;32mc:\\Users\\Abdellah\\mva\\TS\\TS-Project\\src\\kmedoid.py:37\u001b[0m, in \u001b[0;36mkmedoid.fit\u001b[1;34m(self, X, dtw_matrix)\u001b[0m\n\u001b[0;32m     35\u001b[0m dic_centroids_sorted \u001b[38;5;241m=\u001b[39m {key:\u001b[38;5;28msorted\u001b[39m(value) \u001b[38;5;28;01mfor\u001b[39;00m key, value \u001b[38;5;129;01min\u001b[39;00m dic_centroids\u001b[38;5;241m.\u001b[39mitems()}\n\u001b[0;32m     36\u001b[0m \u001b[38;5;28mprint\u001b[39m(dic_centroids_sorted)\n\u001b[1;32m---> 37\u001b[0m new_centroids \u001b[38;5;241m=\u001b[39m [get_approximate_medoid_index(dtw_matrix, dic_centroids_sorted[i],\u001b[38;5;28mlen\u001b[39m(dic_centroids_sorted[i])) \u001b[38;5;28;01mfor\u001b[39;00m i \u001b[38;5;129;01min\u001b[39;00m dic_centroids_sorted]\n\u001b[0;32m     38\u001b[0m \u001b[38;5;28;01mif\u001b[39;00m np\u001b[38;5;241m.\u001b[39mlinalg\u001b[38;5;241m.\u001b[39mnorm(X[new_centroids,:] \u001b[38;5;241m-\u001b[39m X[centroids,:]) \u001b[38;5;241m<\u001b[39m \u001b[38;5;28mself\u001b[39m\u001b[38;5;241m.\u001b[39meps:\n\u001b[0;32m     39\u001b[0m     \u001b[38;5;28;01mreturn\u001b[39;00m X[new_centroids,:]\n",
      "File \u001b[1;32mc:\\Users\\Abdellah\\mva\\TS\\TS-Project\\src\\dba.py:29\u001b[0m, in \u001b[0;36mget_approximate_medoid_index\u001b[1;34m(dtw_matrix, id_D, subset_size, seed)\u001b[0m\n\u001b[0;32m     26\u001b[0m indexes \u001b[38;5;241m=\u001b[39m np\u001b[38;5;241m.\u001b[39mrandom\u001b[38;5;241m.\u001b[39mchoice(\u001b[38;5;28mrange\u001b[39m(\u001b[38;5;241m0\u001b[39m, set_size), subset_size, replace \u001b[38;5;241m=\u001b[39m \u001b[38;5;28;01mFalse\u001b[39;00m)\n\u001b[0;32m     28\u001b[0m \u001b[38;5;66;03m# Calcul de la matrice DTW du sous-ensemble\u001b[39;00m\n\u001b[1;32m---> 29\u001b[0m sub_dtw \u001b[38;5;241m=\u001b[39m dtw\u001b[38;5;241m.\u001b[39mextract_sub_dtw_mat(dtw_matrix, \u001b[38;5;28mlist\u001b[39m(np\u001b[38;5;241m.\u001b[39marray(id_D)[indexes]))\n\u001b[0;32m     31\u001b[0m \u001b[38;5;66;03m# Indice du médoide\u001b[39;00m\n\u001b[0;32m     32\u001b[0m \u001b[38;5;28;01mreturn\u001b[39;00m np\u001b[38;5;241m.\u001b[39margmin(np\u001b[38;5;241m.\u001b[39msum(sub_dtw, axis \u001b[38;5;241m=\u001b[39m \u001b[38;5;241m1\u001b[39m))\n",
      "\u001b[1;31mIndexError\u001b[0m: arrays used as indices must be of integer (or boolean) type"
     ]
    }
   ],
   "source": [
    "model_medoid.fit(X, dtw_mat)"
   ]
  },
  {
   "cell_type": "code",
   "execution_count": null,
   "metadata": {},
   "outputs": [],
   "source": []
  }
 ],
 "metadata": {
  "kernelspec": {
   "display_name": "base",
   "language": "python",
   "name": "python3"
  },
  "language_info": {
   "codemirror_mode": {
    "name": "ipython",
    "version": 3
   },
   "file_extension": ".py",
   "mimetype": "text/x-python",
   "name": "python",
   "nbconvert_exporter": "python",
   "pygments_lexer": "ipython3",
   "version": "3.12.7"
  }
 },
 "nbformat": 4,
 "nbformat_minor": 2
}
